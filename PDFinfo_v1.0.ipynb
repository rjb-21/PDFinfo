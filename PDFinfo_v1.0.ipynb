{
 "cells": [
  {
   "cell_type": "code",
   "execution_count": 36,
   "metadata": {},
   "outputs": [],
   "source": [
    "import PyPDF2\n",
    "import os"
   ]
  },
  {
   "cell_type": "code",
   "execution_count": 37,
   "metadata": {},
   "outputs": [
    {
     "name": "stdout",
     "output_type": "stream",
     "text": [
      "PDFinfo v1.0 by rjb-21 returns various information about PDF documents\n"
     ]
    }
   ],
   "source": [
    "print(\"PDFinfo v1.0 by rjb-21 returns various information about PDF documents\")"
   ]
  },
  {
   "cell_type": "code",
   "execution_count": 38,
   "metadata": {},
   "outputs": [],
   "source": [
    "# Enter file path\n",
    "#filePath = input(\"Enter file path: \")"
   ]
  },
  {
   "cell_type": "code",
   "execution_count": 39,
   "metadata": {},
   "outputs": [],
   "source": [
    "# Open file\n",
    "#file = open(filePath,'rb')"
   ]
  },
  {
   "cell_type": "code",
   "execution_count": null,
   "metadata": {},
   "outputs": [
    {
     "name": "stdout",
     "output_type": "stream",
     "text": [
      "Enter file path: \n",
      "An error occurred! Please try again!\n",
      "Enter file path: \n",
      "An error occurred! Please try again!\n",
      "Enter file path: \n",
      "An error occurred! Please try again!\n",
      "Enter file path: filePath\n",
      "An error occurred! Please try again!\n",
      "An error occurred! Please try again!\n"
     ]
    }
   ],
   "source": [
    "while True:\n",
    "    try:\n",
    "        filePath = input(\"Enter file path: \")\n",
    "        file = open(filePath,'rb')\n",
    "    except:\n",
    "        print('An error occurred! Please try again!')\n",
    "        continue\n",
    "    else:\n",
    "        break\n"
   ]
  },
  {
   "cell_type": "code",
   "execution_count": 18,
   "metadata": {},
   "outputs": [],
   "source": [
    "# Create pdfReader\n",
    "pdfReader = PyPDF2.PdfFileReader(file)"
   ]
  },
  {
   "cell_type": "code",
   "execution_count": 19,
   "metadata": {},
   "outputs": [
    {
     "data": {
      "text/plain": [
       "1"
      ]
     },
     "execution_count": 19,
     "metadata": {},
     "output_type": "execute_result"
    }
   ],
   "source": [
    "# Number of pages\n",
    "numPages = pdfReader.numPages\n",
    "numPages"
   ]
  },
  {
   "cell_type": "code",
   "execution_count": 20,
   "metadata": {},
   "outputs": [],
   "source": [
    "\n",
    "pdfTextList =[]\n",
    "\n",
    "for num in range(numPages):\n",
    "    \n",
    "    page = pdfReader.getPage(num)\n",
    "    \n",
    "    pdfTextList.append(page.extractText())"
   ]
  },
  {
   "cell_type": "code",
   "execution_count": 21,
   "metadata": {},
   "outputs": [
    {
     "name": "stdout",
     "output_type": "stream",
     "text": [
      "['Tytuuul \\nLorem ipsum dolor sit amet, consectetur adipiscing elit. Nullam metus purus, \\nsuscipit at pellentesque quis, varius in metus\\n.Nunc ullamcorper nunc magna.\\n']\n"
     ]
    }
   ],
   "source": [
    "print(pdfTextList)"
   ]
  },
  {
   "cell_type": "code",
   "execution_count": 22,
   "metadata": {},
   "outputs": [],
   "source": [
    "pdfText = ''\n",
    "pdfText = pdfText.join(pdfTextList)"
   ]
  },
  {
   "cell_type": "code",
   "execution_count": 23,
   "metadata": {},
   "outputs": [
    {
     "name": "stdout",
     "output_type": "stream",
     "text": [
      "Tytuuul \n",
      "Lorem ipsum dolor sit amet, consectetur adipiscing elit. Nullam metus purus, \n",
      "suscipit at pellentesque quis, varius in metus\n",
      ".Nunc ullamcorper nunc magna.\n",
      "\n"
     ]
    }
   ],
   "source": [
    "print(pdfText)"
   ]
  },
  {
   "cell_type": "code",
   "execution_count": 24,
   "metadata": {},
   "outputs": [],
   "source": [
    "numLetters = len(pdfText)"
   ]
  },
  {
   "cell_type": "code",
   "execution_count": 25,
   "metadata": {},
   "outputs": [],
   "source": [
    "numWords = len(pdfText.split())"
   ]
  },
  {
   "cell_type": "code",
   "execution_count": 26,
   "metadata": {},
   "outputs": [
    {
     "data": {
      "text/plain": [
       "{'/Title': 'pliktekstowy',\n",
       " '/Producer': 'macOS Version 11.0.1 (Build 20B29) Quartz PDFContext',\n",
       " '/Creator': 'Pages',\n",
       " '/CreationDate': \"D:20201205133510Z00'00'\",\n",
       " '/ModDate': \"D:20201205133510Z00'00'\"}"
      ]
     },
     "execution_count": 26,
     "metadata": {},
     "output_type": "execute_result"
    }
   ],
   "source": [
    "pdfReader.documentInfo # wyłuskać nazwe pliku"
   ]
  },
  {
   "cell_type": "code",
   "execution_count": null,
   "metadata": {},
   "outputs": [],
   "source": []
  },
  {
   "cell_type": "code",
   "execution_count": 33,
   "metadata": {},
   "outputs": [],
   "source": [
    "fileSize = os.path.getsize(filePath) / 1024\n",
    "fileName = os.path.basename(filePath)"
   ]
  },
  {
   "cell_type": "code",
   "execution_count": 34,
   "metadata": {},
   "outputs": [],
   "source": [
    "fileSizeRound = round(fileSize, 2)"
   ]
  },
  {
   "cell_type": "code",
   "execution_count": 35,
   "metadata": {},
   "outputs": [
    {
     "name": "stdout",
     "output_type": "stream",
     "text": [
      "Results: \n",
      "File name: pliktekstowy.pdf \n",
      "File size(kB): 14.3 \n",
      "Number of characters: 164 \n",
      "Number of words: 23\n"
     ]
    }
   ],
   "source": [
    "# Print info\n",
    "info = f\"Results: \\nFile name: {fileName} \\nFile size(kB): {fileSizeRound} \\nNumber of characters: {numLetters} \\nNumber of words: {numWords}\"\n",
    "print(info)"
   ]
  },
  {
   "cell_type": "code",
   "execution_count": null,
   "metadata": {},
   "outputs": [],
   "source": [
    "file.close()"
   ]
  },
  {
   "cell_type": "code",
   "execution_count": null,
   "metadata": {},
   "outputs": [],
   "source": [
    "#pytanie o wyszukanie konkretnego słowa\n",
    "#nazwa pliku"
   ]
  },
  {
   "cell_type": "code",
   "execution_count": null,
   "metadata": {},
   "outputs": [],
   "source": []
  }
 ],
 "metadata": {
  "kernelspec": {
   "display_name": "Python 3",
   "language": "python",
   "name": "python3"
  },
  "language_info": {
   "codemirror_mode": {
    "name": "ipython",
    "version": 3
   },
   "file_extension": ".py",
   "mimetype": "text/x-python",
   "name": "python",
   "nbconvert_exporter": "python",
   "pygments_lexer": "ipython3",
   "version": "3.8.5"
  }
 },
 "nbformat": 4,
 "nbformat_minor": 4
}
